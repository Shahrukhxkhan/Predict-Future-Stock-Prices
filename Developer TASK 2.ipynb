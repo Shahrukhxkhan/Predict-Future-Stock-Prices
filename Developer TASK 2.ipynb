{
 "cells": [
  {
   "cell_type": "code",
   "execution_count": null,
   "id": "9a92423e",
   "metadata": {},
   "outputs": [],
   "source": [
    "import tkinter as tk\n",
    "from tkinter import ttk, messagebox\n",
    "import yfinance as yf\n",
    "import matplotlib.pyplot as plt\n",
    "from sklearn.linear_model import LinearRegression\n",
    "from sklearn.model_selection import train_test_split\n",
    "import pandas as pd\n"
   ]
  },
  {
   "cell_type": "code",
   "execution_count": null,
   "id": "eeca2551",
   "metadata": {},
   "outputs": [],
   "source": [
    "# Top 15 stock ticker symbols\n",
    "STOCKS = {\n",
    "    \"Apple (AAPL)\": \"AAPL\",\n",
    "    \"Microsoft (MSFT)\": \"MSFT\",\n",
    "    \"Nvidia (NVDA)\": \"NVDA\",\n",
    "    \"Amazon (AMZN)\": \"AMZN\",\n",
    "    \"Alphabet (GOOGL)\": \"GOOGL\",\n",
    "    \"Meta Platforms (META)\": \"META\",\n",
    "    \"Tesla (TSLA)\": \"TSLA\",\n",
    "    \"Broadcom (AVGO)\": \"AVGO\",\n",
    "    \"Berkshire Hathaway (BRK-B)\": \"BRK-B\",\n",
    "    \"Taiwan Semiconductor (TSM)\": \"TSM\",\n",
    "    \"Eli Lilly (LLY)\": \"LLY\",\n",
    "    \"Walmart (WMT)\": \"WMT\",\n",
    "    \"JPMorgan Chase (JPM)\": \"JPM\",\n",
    "    \"Visa (V)\": \"V\",\n",
    "    \"Saudi Aramco (2222.SR)\": \"2222.SR\"\n",
    "}\n"
   ]
  },
  {
   "cell_type": "code",
   "execution_count": null,
   "id": "7c7392a0",
   "metadata": {},
   "outputs": [],
   "source": [
    "def fetch_and_predict(stock_symbol):\n",
    "    try:\n",
    "        # Download historical stock data (1 year)\n",
    "        data = yf.download(stock_symbol, period=\"1y\")\n",
    "        data = data[['Open', 'High', 'Low', 'Volume', 'Close']]\n",
    "        data.dropna(inplace=True)\n",
    "\n",
    "        # Features and target\n",
    "        X = data[['Open', 'High', 'Low', 'Volume']]\n",
    "        y = data['Close']\n",
    "\n",
    "        # Train-test split\n",
    "        X_train, X_test, y_train, y_test = train_test_split(X, y, test_size=0.2, random_state=42)\n",
    "\n",
    "        # Linear Regression model\n",
    "        model = LinearRegression()\n",
    "        model.fit(X_train, y_train)\n",
    "\n",
    "        # Predictions\n",
    "        predictions = model.predict(X_test)\n",
    "\n",
    "        # Plotting actual vs predicted prices\n",
    "        plt.figure(figsize=(12, 10))\n",
    "        plt.plot(y_test.values[:250], label='Actual')\n",
    "        plt.plot(predictions[:250], label='Predicted')\n",
    "        plt.title(f'{stock_symbol} Closing Price Prediction ')\n",
    "        plt.xlabel('Time')\n",
    "        plt.ylabel('Price')\n",
    "        plt.legend()\n",
    "        plt.grid(True)\n",
    "        plt.tight_layout()\n",
    "        plt.show()\n",
    "\n",
    "    except Exception as e:\n",
    "        messagebox.showerror(\"Error\", f\"Failed to fetch or process data:\\n{e}\")\n"
   ]
  },
  {
   "cell_type": "code",
   "execution_count": null,
   "id": "8afc4055",
   "metadata": {},
   "outputs": [],
   "source": [
    "def run_gui():\n",
    "    root = tk.Tk()\n",
    "    root.title(\"Stock Price Predictor\")\n",
    "\n",
    "    ttk.Label(root, text=\"Select a Stock:\", font=(\"Arial\", 12)).grid(column=0, row=0, padx=10, pady=10)\n",
    "\n",
    "    stock_var = tk.StringVar()\n",
    "    stock_combo = ttk.Combobox(root, textvariable=stock_var, values=list(STOCKS.keys()), width=40, state=\"readonly\")\n",
    "    stock_combo.grid(column=1, row=0, padx=10, pady=10)\n",
    "    stock_combo.current(0)\n",
    "\n",
    "    def on_predict():\n",
    "        selected = stock_var.get()\n",
    "        if selected in STOCKS:\n",
    "            fetch_and_predict(STOCKS[selected])\n",
    "        else:\n",
    "            messagebox.showwarning(\"Selection Error\", \"Please select a valid stock from the list.\")\n",
    "\n",
    "    ttk.Button(root, text=\"Predict\", command=on_predict).grid(column=0, row=1, columnspan=2, pady=20)\n",
    "\n",
    "    root.mainloop()\n"
   ]
  },
  {
   "cell_type": "code",
   "execution_count": null,
   "id": "3c6e9a42",
   "metadata": {},
   "outputs": [],
   "source": [
    "# Run the app\n",
    "run_gui()\n"
   ]
  }
 ],
 "metadata": {
  "kernelspec": {
   "display_name": "Python 3",
   "language": "python",
   "name": "python3"
  },
  "language_info": {
   "name": "python",
   "version": "3.13.1"
  }
 },
 "nbformat": 4,
 "nbformat_minor": 5
}
